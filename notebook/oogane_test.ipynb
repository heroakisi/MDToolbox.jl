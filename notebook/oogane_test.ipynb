{
 "cells": [
  {
   "cell_type": "code",
   "execution_count": 1,
   "metadata": {},
   "outputs": [
    {
     "data": {
      "text/plain": [
       "130"
      ]
     },
     "execution_count": 1,
     "metadata": {},
     "output_type": "execute_result"
    }
   ],
   "source": [
    "using Plots, Printf, DelimitedFiles, BenchmarkTools, DelimitedFiles\n",
    "include(\"../src/MDToolbox.jl\")\n",
    "using .MDToolbox\n",
    "ENV[\"COLUMNS\"] = 130"
   ]
  },
  {
   "cell_type": "code",
   "execution_count": 3,
   "metadata": {},
   "outputs": [
    {
     "data": {
      "text/plain": [
       "AfmizeConfig(0.17453292519943295, 10.0, Main.MDToolbox.Point2D{Int64}(-250, -200), Main.MDToolbox.Point2D{Int64}(250, 200), Main.MDToolbox.Point2D{Float64}(6.25, 6.25), Dict(\"SI\" => 2.1,\"GLN\" => 3.0,\"GLU\" => 2.95,\"C\" => 1.7,\"MG\" => 1.73,\"P\" => 1.8,\"LYS\" => 3.2,\"GLY\" => 2.25,\"ASN\" => 2.85,\"NE\" => 1.54…))"
      ]
     },
     "execution_count": 3,
     "metadata": {},
     "output_type": "execute_result"
    }
   ],
   "source": [
    "q_array = readdlm(\"data/quaternion/QUATERNION_LIST_576_Orient\")\n",
    "model_array = readpdb(\"data/t1r/cluster.pdb\");\n",
    "for iatom = 1:model_array.natom\n",
    "    model_array.atomname[iatom] = model_array.resname[iatom]\n",
    "end\n",
    "MDToolbox.decenter!(model_array)\n",
    "config = AfmizeConfig(10.0 * (pi / 180), \n",
    "                      10, \n",
    "                      MDToolbox.Point2D(-250, -200), \n",
    "                      MDToolbox.Point2D(250, 200), \n",
    "                      MDToolbox.Point2D(6.25, 6.25), \n",
    "                      MDToolbox.defaultParameters())"
   ]
  },
  {
   "cell_type": "code",
   "execution_count": 12,
   "metadata": {},
   "outputs": [
    {
     "name": "stdout",
     "output_type": "stream",
     "text": [
      "  0.052271 seconds (514.28 k allocations: 11.786 MiB)\n",
      "  1.025013 seconds (32.13 M allocations: 490.417 MiB, 6.01% gc time)\n"
     ]
    }
   ],
   "source": [
    "@time afm = MDToolbox.afmize(model_array[1, :], config);\n",
    "@time MDToolbox.afmize_beta(model_array[1, :], config);\n",
    "# @time MDToolbox.afmize_gpu(model_array[1, :], config);"
   ]
  },
  {
   "cell_type": "code",
   "execution_count": 13,
   "metadata": {},
   "outputs": [
    {
     "name": "stdout",
     "output_type": "stream",
     "text": [
      "func is fft_convolution\n",
      "model_id = 1\n",
      "npix = 5120.0\n",
      "typeof(log01) = Array{Float64,2}\n",
      "typeof(log02) = Float64\n",
      "npix = 5120.0\n",
      "typeof(log01) = Array{Float64,2}\n",
      "typeof(log02) = Float64\n"
     ]
    },
    {
     "data": {
      "text/plain": [
       "1-element Array{Any,1}:\n",
       " Main.MDToolbox.posteriorResult([0.0 1.0], [-7416.048775520554], [[0.0 0.0 … 0.0 0.0; 0.0 0.0 … 0.0 0.0; … ; 0.0 0.0 … 0.0 0.0; 0.0 0.0 … 0.0 0.0]], [1.0], (1, 1), -7416.048775520554, 1x1044 TrjArray{Float64,Int64}\n",
       "| X                          | X                          |  …   X                          | X                          |\n",
       "| 1THR                       | 2SER                       |  …   1043PRO                    | 1044SER                    |\n",
       "| 1THR                       | 2SER                       |  …   1043PRO                    | 1044SER                    |\n",
       "|   -25.55   -25.83   -11.87 |   -23.88   -28.22    -9.02 |  …      62.39    13.46   -11.68 |    62.64    17.22   -11.63 |, [0.75434412, 0.31246012, 0.22094212, 0.53340212], 1x1044 TrjArray{Float64,Int64}\n",
       "| X                          | X                          |  …   X                          | X                          |\n",
       "| 1THR                       | 2SER                       |  …   1043PRO                    | 1044SER                    |\n",
       "| 1THR                       | 2SER                       |  …   1043PRO                    | 1044SER                    |\n",
       "|   -36.33   -11.13     4.14 |   -36.84    -7.48     5.90 |  …      53.63     0.52    36.51 |    56.47    -0.26    34.16 |, AfmizeConfig(0.17453292519943295, 10.0, Main.MDToolbox.Point2D{Int64}(-250, -200), Main.MDToolbox.Point2D{Int64}(250, 200), Main.MDToolbox.Point2D{Float64}(6.25, 6.25), Dict(\"SI\" => 2.1,\"GLN\" => 3.0,\"GLU\" => 2.95,\"C\" => 1.7,\"MG\" => 1.73,\"P\" => 1.8,\"LYS\" => 3.2,\"GLY\" => 2.25,\"ASN\" => 2.85,\"NE\" => 1.54…)), [0.0 0.0 … 0.0 0.0; 0.0 0.0 … 0.0 0.0; … ; 0.0 0.0 … 0.0 0.0; 0.0 0.0 … 0.0 0.0])"
      ]
     },
     "execution_count": 13,
     "metadata": {},
     "output_type": "execute_result"
    }
   ],
   "source": [
    "getafmposteriors_alpha([afm], model_array[1, :], q_array[1:2, :], [config])"
   ]
  },
  {
   "cell_type": "code",
   "execution_count": null,
   "metadata": {},
   "outputs": [],
   "source": []
  }
 ],
 "metadata": {
  "kernelspec": {
   "display_name": "Julia 1.4.0",
   "language": "julia",
   "name": "julia-1.4"
  },
  "language_info": {
   "file_extension": ".jl",
   "mimetype": "application/julia",
   "name": "julia",
   "version": "1.4.0"
  }
 },
 "nbformat": 4,
 "nbformat_minor": 4
}
